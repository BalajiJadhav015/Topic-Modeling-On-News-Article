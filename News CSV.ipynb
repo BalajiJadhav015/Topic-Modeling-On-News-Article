{
 "cells": [
  {
   "cell_type": "code",
   "execution_count": 1,
   "id": "2a323fc0-4147-415a-b55f-ac19cf7a00ba",
   "metadata": {},
   "outputs": [],
   "source": [
    "import pandas as pd\n",
    "import numpy as np\n",
    "import glob\n",
    "import os"
   ]
  },
  {
   "cell_type": "code",
   "execution_count": 2,
   "id": "24f4a44a-a07d-482a-962e-6040e5eb53d8",
   "metadata": {},
   "outputs": [],
   "source": [
    "data_folder = \"C:\\\\Users\\\\lenovo\\\\Downloads\\\\Untitled Folder\\\\\"\n",
    "folders = [\"business\",\"entertainment\",\"politics\",\"sport\",\"tech\"]"
   ]
  },
  {
   "cell_type": "code",
   "execution_count": 3,
   "id": "3e201cd1-6f9a-4234-9347-4c3c106377b1",
   "metadata": {},
   "outputs": [
    {
     "data": {
      "text/plain": [
       "['business', 'entertainment', 'politics', 'sport', 'tech']"
      ]
     },
     "execution_count": 3,
     "metadata": {},
     "output_type": "execute_result"
    }
   ],
   "source": [
    "os.listdir(data_folder)"
   ]
  },
  {
   "cell_type": "code",
   "execution_count": 4,
   "id": "6b84f50e-f5f8-4606-b881-76970777c377",
   "metadata": {},
   "outputs": [],
   "source": [
    "files = os.listdir('C:\\\\Users\\\\lenovo\\\\Downloads\\\\Untitled Folder\\\\')"
   ]
  },
  {
   "cell_type": "code",
   "execution_count": 5,
   "id": "c86797a8-1387-47fc-9396-8fb64ed78023",
   "metadata": {},
   "outputs": [],
   "source": [
    "folderslist = [f for f in os.listdir(data_folder) if not f.startswith('.')]"
   ]
  },
  {
   "cell_type": "code",
   "execution_count": 6,
   "id": "6c3731b5-bd92-41e4-9010-d06cd6ffbd33",
   "metadata": {},
   "outputs": [
    {
     "data": {
      "text/plain": [
       "['business', 'entertainment', 'politics', 'sport', 'tech']"
      ]
     },
     "execution_count": 6,
     "metadata": {},
     "output_type": "execute_result"
    }
   ],
   "source": [
    "folderslist"
   ]
  },
  {
   "cell_type": "code",
   "execution_count": 7,
   "id": "5c9b951f-ae56-4aec-ab58-33092537ee43",
   "metadata": {},
   "outputs": [],
   "source": [
    "news = []\n",
    "newstype = []"
   ]
  },
  {
   "cell_type": "code",
   "execution_count": 8,
   "id": "87dc9312-d43e-40ee-bda5-6a20c4cea8ae",
   "metadata": {},
   "outputs": [],
   "source": [
    "for folder in folders:\n",
    "    folder_path = 'C:\\\\Users\\\\lenovo\\\\Downloads\\\\Untitled Folder\\\\'+folder+'/'\n",
    "    files = os.listdir(folder_path)\n",
    "    for text_file in files:\n",
    "        file_path = folder_path + \"/\" +text_file\n",
    "        with open(file_path, errors='replace') as f:\n",
    "            data = f.readlines()\n",
    "        data = ' '.join(data)\n",
    "        news.append(data)\n",
    "        newstype.append(folder)"
   ]
  },
  {
   "cell_type": "code",
   "execution_count": 9,
   "id": "8d421792-2b28-42da-9b7e-8f1ebab21cc5",
   "metadata": {},
   "outputs": [
    {
     "data": {
      "text/plain": [
       "2225"
      ]
     },
     "execution_count": 9,
     "metadata": {},
     "output_type": "execute_result"
    }
   ],
   "source": [
    "len(newstype)"
   ]
  },
  {
   "cell_type": "code",
   "execution_count": 10,
   "id": "6fdc77da-2679-4fac-a47b-e6979b32e655",
   "metadata": {},
   "outputs": [],
   "source": [
    "#make a dict of news and its corresponding type\n",
    "datadict = {'news':news, 'type':newstype}"
   ]
  },
  {
   "cell_type": "code",
   "execution_count": 11,
   "id": "147e490b-4359-48b8-bfa4-8482a4e62b18",
   "metadata": {},
   "outputs": [],
   "source": [
    "#write the dictionary to a csv file\n",
    "df = pd.DataFrame(datadict)\n",
    "df.to_csv('./bbc.csv')"
   ]
  },
  {
   "cell_type": "code",
   "execution_count": null,
   "id": "197c3f4c-989e-4d1b-9a9f-7e4c3f7682f2",
   "metadata": {},
   "outputs": [],
   "source": []
  },
  {
   "cell_type": "code",
   "execution_count": null,
   "id": "28331a95-63a1-4220-843d-4bad58eece51",
   "metadata": {},
   "outputs": [],
   "source": []
  }
 ],
 "metadata": {
  "kernelspec": {
   "display_name": "Python 3 (ipykernel)",
   "language": "python",
   "name": "python3"
  },
  "language_info": {
   "codemirror_mode": {
    "name": "ipython",
    "version": 3
   },
   "file_extension": ".py",
   "mimetype": "text/x-python",
   "name": "python",
   "nbconvert_exporter": "python",
   "pygments_lexer": "ipython3",
   "version": "3.10.1"
  }
 },
 "nbformat": 4,
 "nbformat_minor": 5
}
