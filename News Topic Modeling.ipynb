{
 "cells": [
  {
   "cell_type": "markdown",
   "id": "6dfb392e-dac5-4839-b707-8ab29fe73976",
   "metadata": {},
   "source": [
    "## Project Title : Extraction/identification of major topics & themes discussed in news articles."
   ]
  },
  {
   "cell_type": "markdown",
   "id": "39f12b7a-4365-4199-8abf-05b87c01c33b",
   "metadata": {},
   "source": [
    "### Problem Description\n",
    "### In this project your task is to identify major themes/topics across a collection of BBC news articles. You can use clustering algorithms such as Latent Dirichlet Allocation (LDA), Latent Semantic Analysis (LSA) etc."
   ]
  },
  {
   "cell_type": "markdown",
   "id": "175cd5b2-b203-4913-8b67-756bd933b7c5",
   "metadata": {},
   "source": [
    "### Data Description\n",
    "### The dataset contains a set of news articles for each major segment consisting of business, entertainment, politics, sports and technology. You need to create an aggregate dataset of all the news articles and perform topic modeling on this dataset. Verify whether these topics correspond to the different tags available."
   ]
  },
  {
   "cell_type": "code",
   "execution_count": 1,
   "id": "bea1351a-4bde-4364-9af6-3f931a941f00",
   "metadata": {},
   "outputs": [],
   "source": [
    "import numpy as np\n",
    "import pandas as pd\n",
    "from sklearn import preprocessing\n",
    "from sklearn.feature_extraction.text import CountVectorizer, TfidfVectorizer\n",
    "from sklearn.model_selection import train_test_split, KFold\n",
    "from nltk.corpus import stopwords\n",
    "from nltk.stem.snowball import SnowballStemmer\n",
    "from sklearn.metrics import accuracy_score, classification_report\n",
    "import matplotlib\n",
    "from matplotlib import pyplot as plt\n",
    "import seaborn as sns\n",
    "# import seaborn as sns\n",
    "%matplotlib inline\n",
    "%config InlineBackend.figure_format = 'retina'"
   ]
  },
  {
   "cell_type": "code",
   "execution_count": 2,
   "id": "84a0329c-4104-43ec-bbf1-0858d1a6413d",
   "metadata": {},
   "outputs": [],
   "source": [
    "data = pd.read_csv('bbc.csv')"
   ]
  },
  {
   "cell_type": "markdown",
   "id": "b70d2ef6-75d3-4c0d-b8e6-71486c66eede",
   "metadata": {},
   "source": [
    "### First Look of Data"
   ]
  },
  {
   "cell_type": "code",
   "execution_count": 3,
   "id": "c6e0acf1-fc47-41c1-a926-56e18e0fd90d",
   "metadata": {},
   "outputs": [
    {
     "data": {
      "text/html": [
       "<div>\n",
       "<style scoped>\n",
       "    .dataframe tbody tr th:only-of-type {\n",
       "        vertical-align: middle;\n",
       "    }\n",
       "\n",
       "    .dataframe tbody tr th {\n",
       "        vertical-align: top;\n",
       "    }\n",
       "\n",
       "    .dataframe thead th {\n",
       "        text-align: right;\n",
       "    }\n",
       "</style>\n",
       "<table border=\"1\" class=\"dataframe\">\n",
       "  <thead>\n",
       "    <tr style=\"text-align: right;\">\n",
       "      <th></th>\n",
       "      <th>Unnamed: 0</th>\n",
       "      <th>news</th>\n",
       "      <th>type</th>\n",
       "    </tr>\n",
       "  </thead>\n",
       "  <tbody>\n",
       "    <tr>\n",
       "      <th>0</th>\n",
       "      <td>0</td>\n",
       "      <td>Ad sales boost Time Warner profit\\n \\n Quarter...</td>\n",
       "      <td>business</td>\n",
       "    </tr>\n",
       "    <tr>\n",
       "      <th>1</th>\n",
       "      <td>1</td>\n",
       "      <td>Dollar gains on Greenspan speech\\n \\n The doll...</td>\n",
       "      <td>business</td>\n",
       "    </tr>\n",
       "    <tr>\n",
       "      <th>2</th>\n",
       "      <td>2</td>\n",
       "      <td>Yukos unit buyer faces loan claim\\n \\n The own...</td>\n",
       "      <td>business</td>\n",
       "    </tr>\n",
       "    <tr>\n",
       "      <th>3</th>\n",
       "      <td>3</td>\n",
       "      <td>High fuel prices hit BA's profits\\n \\n British...</td>\n",
       "      <td>business</td>\n",
       "    </tr>\n",
       "    <tr>\n",
       "      <th>4</th>\n",
       "      <td>4</td>\n",
       "      <td>Pernod takeover talk lifts Domecq\\n \\n Shares ...</td>\n",
       "      <td>business</td>\n",
       "    </tr>\n",
       "  </tbody>\n",
       "</table>\n",
       "</div>"
      ],
      "text/plain": [
       "   Unnamed: 0                                               news      type\n",
       "0           0  Ad sales boost Time Warner profit\\n \\n Quarter...  business\n",
       "1           1  Dollar gains on Greenspan speech\\n \\n The doll...  business\n",
       "2           2  Yukos unit buyer faces loan claim\\n \\n The own...  business\n",
       "3           3  High fuel prices hit BA's profits\\n \\n British...  business\n",
       "4           4  Pernod takeover talk lifts Domecq\\n \\n Shares ...  business"
      ]
     },
     "execution_count": 3,
     "metadata": {},
     "output_type": "execute_result"
    }
   ],
   "source": [
    "data.head()"
   ]
  },
  {
   "cell_type": "code",
   "execution_count": 4,
   "id": "877b670e-f132-4502-9bc3-eca6911f4c43",
   "metadata": {},
   "outputs": [
    {
     "name": "stdout",
     "output_type": "stream",
     "text": [
      "<class 'pandas.core.frame.DataFrame'>\n",
      "RangeIndex: 2225 entries, 0 to 2224\n",
      "Data columns (total 3 columns):\n",
      " #   Column      Non-Null Count  Dtype \n",
      "---  ------      --------------  ----- \n",
      " 0   Unnamed: 0  2225 non-null   int64 \n",
      " 1   news        2225 non-null   object\n",
      " 2   type        2225 non-null   object\n",
      "dtypes: int64(1), object(2)\n",
      "memory usage: 52.3+ KB\n"
     ]
    }
   ],
   "source": [
    "data.info()"
   ]
  },
  {
   "cell_type": "code",
   "execution_count": 5,
   "id": "5a59642d-1af2-4d8e-8209-e7b3c10586d5",
   "metadata": {},
   "outputs": [
    {
     "data": {
      "text/plain": [
       "(2225, 3)"
      ]
     },
     "execution_count": 5,
     "metadata": {},
     "output_type": "execute_result"
    }
   ],
   "source": [
    "data.shape"
   ]
  },
  {
   "cell_type": "code",
   "execution_count": 6,
   "id": "4721ac0d-08e3-46d6-b40e-3b482b129f41",
   "metadata": {},
   "outputs": [
    {
     "name": "stderr",
     "output_type": "stream",
     "text": [
      "C:\\Users\\lenovo\\AppData\\Local\\Programs\\Python\\Python310\\lib\\site-packages\\seaborn\\_decorators.py:36: FutureWarning: Pass the following variable as a keyword arg: x. From version 0.12, the only valid positional argument will be `data`, and passing other arguments without an explicit keyword will result in an error or misinterpretation.\n",
      "  warnings.warn(\n"
     ]
    },
    {
     "data": {
      "text/plain": [
       "<AxesSubplot:xlabel='type', ylabel='count'>"
      ]
     },
     "execution_count": 6,
     "metadata": {},
     "output_type": "execute_result"
    },
    {
     "data": {
      "image/png": "[encoded data removed]",
      "text/plain": [
       "<Figure size 1080x360 with 1 Axes>"
      ]
     },
     "metadata": {
      "image/png": {
       "height": 316,
       "width": 891
      },
      "needs_background": "light"
     },
     "output_type": "display_data"
    }
   ],
   "source": [
    "plt.figure(figsize=(15, 5))\n",
    "sns.countplot(data.type)"
   ]
  },
  {
   "cell_type": "code",
   "execution_count": 7,
   "id": "d2ce8e1b-191e-4d9e-8ff3-d76c9e24a66d",
   "metadata": {},
   "outputs": [
    {
     "name": "stdout",
     "output_type": "stream",
     "text": [
      "0        2570\n",
      "1        2258\n",
      "2        1558\n",
      "3        2422\n",
      "4        1576\n",
      "        ...  \n",
      "2220     2527\n",
      "2221     2295\n",
      "2222     6298\n",
      "2223     2324\n",
      "2224    16249\n",
      "Name: News_length, Length: 2225, dtype: int64\n"
     ]
    }
   ],
   "source": [
    "data['News_length'] = data['news'].str.len()\n",
    "print(data['News_length'])"
   ]
  },
  {
   "cell_type": "code",
   "execution_count": 8,
   "id": "37ea288a-040e-4739-bdd2-1960ed17462d",
   "metadata": {},
   "outputs": [
    {
     "data": {
      "text/html": [
       "<div>\n",
       "<style scoped>\n",
       "    .dataframe tbody tr th:only-of-type {\n",
       "        vertical-align: middle;\n",
       "    }\n",
       "\n",
       "    .dataframe tbody tr th {\n",
       "        vertical-align: top;\n",
       "    }\n",
       "\n",
       "    .dataframe thead th {\n",
       "        text-align: right;\n",
       "    }\n",
       "</style>\n",
       "<table border=\"1\" class=\"dataframe\">\n",
       "  <thead>\n",
       "    <tr style=\"text-align: right;\">\n",
       "      <th></th>\n",
       "      <th>Unnamed: 0</th>\n",
       "      <th>news</th>\n",
       "      <th>type</th>\n",
       "      <th>News_length</th>\n",
       "    </tr>\n",
       "  </thead>\n",
       "  <tbody>\n",
       "    <tr>\n",
       "      <th>0</th>\n",
       "      <td>0</td>\n",
       "      <td>Ad sales boost Time Warner profit\\n \\n Quarter...</td>\n",
       "      <td>business</td>\n",
       "      <td>2570</td>\n",
       "    </tr>\n",
       "    <tr>\n",
       "      <th>1</th>\n",
       "      <td>1</td>\n",
       "      <td>Dollar gains on Greenspan speech\\n \\n The doll...</td>\n",
       "      <td>business</td>\n",
       "      <td>2258</td>\n",
       "    </tr>\n",
       "    <tr>\n",
       "      <th>2</th>\n",
       "      <td>2</td>\n",
       "      <td>Yukos unit buyer faces loan claim\\n \\n The own...</td>\n",
       "      <td>business</td>\n",
       "      <td>1558</td>\n",
       "    </tr>\n",
       "    <tr>\n",
       "      <th>3</th>\n",
       "      <td>3</td>\n",
       "      <td>High fuel prices hit BA's profits\\n \\n British...</td>\n",
       "      <td>business</td>\n",
       "      <td>2422</td>\n",
       "    </tr>\n",
       "    <tr>\n",
       "      <th>4</th>\n",
       "      <td>4</td>\n",
       "      <td>Pernod takeover talk lifts Domecq\\n \\n Shares ...</td>\n",
       "      <td>business</td>\n",
       "      <td>1576</td>\n",
       "    </tr>\n",
       "  </tbody>\n",
       "</table>\n",
       "</div>"
      ],
      "text/plain": [
       "   Unnamed: 0                                               news      type  \\\n",
       "0           0  Ad sales boost Time Warner profit\\n \\n Quarter...  business   \n",
       "1           1  Dollar gains on Greenspan speech\\n \\n The doll...  business   \n",
       "2           2  Yukos unit buyer faces loan claim\\n \\n The own...  business   \n",
       "3           3  High fuel prices hit BA's profits\\n \\n British...  business   \n",
       "4           4  Pernod takeover talk lifts Domecq\\n \\n Shares ...  business   \n",
       "\n",
       "   News_length  \n",
       "0         2570  \n",
       "1         2258  \n",
       "2         1558  \n",
       "3         2422  \n",
       "4         1576  "
      ]
     },
     "execution_count": 8,
     "metadata": {},
     "output_type": "execute_result"
    }
   ],
   "source": [
    "data.head()"
   ]
  },
  {
   "cell_type": "code",
   "execution_count": 9,
   "id": "b70d68a0-9d8a-4bca-b12d-e3d4ca3f26f3",
   "metadata": {},
   "outputs": [
    {
     "name": "stderr",
     "output_type": "stream",
     "text": [
      "C:\\Users\\lenovo\\AppData\\Local\\Programs\\Python\\Python310\\lib\\site-packages\\seaborn\\distributions.py:2619: FutureWarning: `distplot` is a deprecated function and will be removed in a future version. Please adapt your code to use either `displot` (a figure-level function with similar flexibility) or `histplot` (an axes-level function for histograms).\n",
      "  warnings.warn(msg, FutureWarning)\n"
     ]
    },
    {
     "data": {
      "image/png": "[encoded data removed]",
      "text/plain": [
       "<Figure size 1080x360 with 1 Axes>"
      ]
     },
     "metadata": {
      "image/png": {
       "height": 332,
       "width": 907
      },
      "needs_background": "light"
     },
     "output_type": "display_data"
    }
   ],
   "source": [
    "plt.figure(figsize=(15, 5))\n",
    "sns.distplot(data['News_length']).set_title('News length distribution');"
   ]
  },
  {
   "cell_type": "markdown",
   "id": "c680390f-95ae-4f89-b192-097eddc7d5cf",
   "metadata": {
    "tags": []
   },
   "source": [
    "### Funtion to remove punctuation"
   ]
  },
  {
   "cell_type": "code",
   "execution_count": 10,
   "id": "1b06ba51-3e75-4e78-a23c-03e201821371",
   "metadata": {},
   "outputs": [],
   "source": [
    "def remove_punctuation(text):\n",
    "    '''a function for removing punctuation'''\n",
    "    import string\n",
    "    # replacing the punctuations with no space, \n",
    "    # which in effect deletes the punctuation marks \n",
    "    translator = str.maketrans('', '', string.punctuation)\n",
    "    # return the text stripped of punctuation marks\n",
    "    return text.translate(translator)"
   ]
  },
  {
   "cell_type": "code",
   "execution_count": 11,
   "id": "be7e7211-9d20-495e-b3b2-1924f087dc55",
   "metadata": {},
   "outputs": [
    {
     "data": {
      "text/html": [
       "<div>\n",
       "<style scoped>\n",
       "    .dataframe tbody tr th:only-of-type {\n",
       "        vertical-align: middle;\n",
       "    }\n",
       "\n",
       "    .dataframe tbody tr th {\n",
       "        vertical-align: top;\n",
       "    }\n",
       "\n",
       "    .dataframe thead th {\n",
       "        text-align: right;\n",
       "    }\n",
       "</style>\n",
       "<table border=\"1\" class=\"dataframe\">\n",
       "  <thead>\n",
       "    <tr style=\"text-align: right;\">\n",
       "      <th></th>\n",
       "      <th>Unnamed: 0</th>\n",
       "      <th>news</th>\n",
       "      <th>type</th>\n",
       "      <th>News_length</th>\n",
       "    </tr>\n",
       "  </thead>\n",
       "  <tbody>\n",
       "    <tr>\n",
       "      <th>0</th>\n",
       "      <td>0</td>\n",
       "      <td>Ad sales boost Time Warner profit\\n \\n Quarter...</td>\n",
       "      <td>business</td>\n",
       "      <td>2570</td>\n",
       "    </tr>\n",
       "    <tr>\n",
       "      <th>1</th>\n",
       "      <td>1</td>\n",
       "      <td>Dollar gains on Greenspan speech\\n \\n The doll...</td>\n",
       "      <td>business</td>\n",
       "      <td>2258</td>\n",
       "    </tr>\n",
       "    <tr>\n",
       "      <th>2</th>\n",
       "      <td>2</td>\n",
       "      <td>Yukos unit buyer faces loan claim\\n \\n The own...</td>\n",
       "      <td>business</td>\n",
       "      <td>1558</td>\n",
       "    </tr>\n",
       "    <tr>\n",
       "      <th>3</th>\n",
       "      <td>3</td>\n",
       "      <td>High fuel prices hit BAs profits\\n \\n British ...</td>\n",
       "      <td>business</td>\n",
       "      <td>2422</td>\n",
       "    </tr>\n",
       "    <tr>\n",
       "      <th>4</th>\n",
       "      <td>4</td>\n",
       "      <td>Pernod takeover talk lifts Domecq\\n \\n Shares ...</td>\n",
       "      <td>business</td>\n",
       "      <td>1576</td>\n",
       "    </tr>\n",
       "    <tr>\n",
       "      <th>5</th>\n",
       "      <td>5</td>\n",
       "      <td>Japan narrowly escapes recession\\n \\n Japans e...</td>\n",
       "      <td>business</td>\n",
       "      <td>1193</td>\n",
       "    </tr>\n",
       "    <tr>\n",
       "      <th>6</th>\n",
       "      <td>6</td>\n",
       "      <td>Jobs growth still slow in the US\\n \\n The US c...</td>\n",
       "      <td>business</td>\n",
       "      <td>1677</td>\n",
       "    </tr>\n",
       "    <tr>\n",
       "      <th>7</th>\n",
       "      <td>7</td>\n",
       "      <td>India calls for fair trade rules\\n \\n India wh...</td>\n",
       "      <td>business</td>\n",
       "      <td>1928</td>\n",
       "    </tr>\n",
       "    <tr>\n",
       "      <th>8</th>\n",
       "      <td>8</td>\n",
       "      <td>Ethiopias crop production up 24\\n \\n Ethiopia ...</td>\n",
       "      <td>business</td>\n",
       "      <td>1502</td>\n",
       "    </tr>\n",
       "    <tr>\n",
       "      <th>9</th>\n",
       "      <td>9</td>\n",
       "      <td>Court rejects 280bn tobacco case\\n \\n A US gov...</td>\n",
       "      <td>business</td>\n",
       "      <td>1455</td>\n",
       "    </tr>\n",
       "  </tbody>\n",
       "</table>\n",
       "</div>"
      ],
      "text/plain": [
       "   Unnamed: 0                                               news      type  \\\n",
       "0           0  Ad sales boost Time Warner profit\\n \\n Quarter...  business   \n",
       "1           1  Dollar gains on Greenspan speech\\n \\n The doll...  business   \n",
       "2           2  Yukos unit buyer faces loan claim\\n \\n The own...  business   \n",
       "3           3  High fuel prices hit BAs profits\\n \\n British ...  business   \n",
       "4           4  Pernod takeover talk lifts Domecq\\n \\n Shares ...  business   \n",
       "5           5  Japan narrowly escapes recession\\n \\n Japans e...  business   \n",
       "6           6  Jobs growth still slow in the US\\n \\n The US c...  business   \n",
       "7           7  India calls for fair trade rules\\n \\n India wh...  business   \n",
       "8           8  Ethiopias crop production up 24\\n \\n Ethiopia ...  business   \n",
       "9           9  Court rejects 280bn tobacco case\\n \\n A US gov...  business   \n",
       "\n",
       "   News_length  \n",
       "0         2570  \n",
       "1         2258  \n",
       "2         1558  \n",
       "3         2422  \n",
       "4         1576  \n",
       "5         1193  \n",
       "6         1677  \n",
       "7         1928  \n",
       "8         1502  \n",
       "9         1455  "
      ]
     },
     "execution_count": 11,
     "metadata": {},
     "output_type": "execute_result"
    }
   ],
   "source": [
    "data['news'] = data['news'].apply(remove_punctuation)\n",
    "data.head(10)"
   ]
  },
  {
   "cell_type": "markdown",
   "id": "072ba134-e0f6-4110-b92c-ba333d43b22c",
   "metadata": {},
   "source": [
    "### Removeing Stop Words From Data"
   ]
  },
  {
   "cell_type": "code",
   "execution_count": 12,
   "id": "15f836c8-6211-44e4-ade6-cde43064ae0f",
   "metadata": {},
   "outputs": [
    {
     "name": "stderr",
     "output_type": "stream",
     "text": [
      "[nltk_data] Downloading package stopwords to\n",
      "[nltk_data]     C:\\Users\\lenovo\\AppData\\Roaming\\nltk_data...\n",
      "[nltk_data]   Package stopwords is already up-to-date!\n"
     ]
    }
   ],
   "source": [
    "import nltk\n",
    "nltk.download('stopwords')\n",
    "stopwords = nltk.corpus.stopwords.words(\"english\")"
   ]
  },
  {
   "cell_type": "code",
   "execution_count": 13,
   "id": "2acbd60a-0248-428b-b870-a042b2083500",
   "metadata": {},
   "outputs": [],
   "source": [
    "sw = stopwords[:]"
   ]
  },
  {
   "cell_type": "code",
   "execution_count": 14,
   "id": "2f5e00de-86e2-4dd8-bee4-0fdf2c4507b6",
   "metadata": {},
   "outputs": [
    {
     "name": "stdout",
     "output_type": "stream",
     "text": [
      "Number of stopwords:  179\n"
     ]
    }
   ],
   "source": [
    "print(\"Number of stopwords: \", len(sw))"
   ]
  },
  {
   "cell_type": "code",
   "execution_count": 15,
   "id": "5c9b86ef-cd16-4e84-95f5-2376a8a3e707",
   "metadata": {},
   "outputs": [],
   "source": [
    "def stopwords(text):\n",
    "    '''a function for removing the stopword'''\n",
    "    # removing the stop words and lowercasing the selected words\n",
    "    text = [word.lower() for word in text.split() if word.lower() not in sw]\n",
    "    # joining the list of words with space separator\n",
    "    return \" \".join(text)"
   ]
  },
  {
   "cell_type": "code",
   "execution_count": 16,
   "id": "b5e3a671-797a-486c-927a-41b922a2d6b1",
   "metadata": {},
   "outputs": [
    {
     "data": {
      "text/html": [
       "<div>\n",
       "<style scoped>\n",
       "    .dataframe tbody tr th:only-of-type {\n",
       "        vertical-align: middle;\n",
       "    }\n",
       "\n",
       "    .dataframe tbody tr th {\n",
       "        vertical-align: top;\n",
       "    }\n",
       "\n",
       "    .dataframe thead th {\n",
       "        text-align: right;\n",
       "    }\n",
       "</style>\n",
       "<table border=\"1\" class=\"dataframe\">\n",
       "  <thead>\n",
       "    <tr style=\"text-align: right;\">\n",
       "      <th></th>\n",
       "      <th>Unnamed: 0</th>\n",
       "      <th>news</th>\n",
       "      <th>type</th>\n",
       "      <th>News_length</th>\n",
       "    </tr>\n",
       "  </thead>\n",
       "  <tbody>\n",
       "    <tr>\n",
       "      <th>0</th>\n",
       "      <td>0</td>\n",
       "      <td>ad sales boost time warner profit quarterly pr...</td>\n",
       "      <td>business</td>\n",
       "      <td>2570</td>\n",
       "    </tr>\n",
       "    <tr>\n",
       "      <th>1</th>\n",
       "      <td>1</td>\n",
       "      <td>dollar gains greenspan speech dollar hit highe...</td>\n",
       "      <td>business</td>\n",
       "      <td>2258</td>\n",
       "    </tr>\n",
       "    <tr>\n",
       "      <th>2</th>\n",
       "      <td>2</td>\n",
       "      <td>yukos unit buyer faces loan claim owners embat...</td>\n",
       "      <td>business</td>\n",
       "      <td>1558</td>\n",
       "    </tr>\n",
       "    <tr>\n",
       "      <th>3</th>\n",
       "      <td>3</td>\n",
       "      <td>high fuel prices hit bas profits british airwa...</td>\n",
       "      <td>business</td>\n",
       "      <td>2422</td>\n",
       "    </tr>\n",
       "    <tr>\n",
       "      <th>4</th>\n",
       "      <td>4</td>\n",
       "      <td>pernod takeover talk lifts domecq shares uk dr...</td>\n",
       "      <td>business</td>\n",
       "      <td>1576</td>\n",
       "    </tr>\n",
       "    <tr>\n",
       "      <th>5</th>\n",
       "      <td>5</td>\n",
       "      <td>japan narrowly escapes recession japans econom...</td>\n",
       "      <td>business</td>\n",
       "      <td>1193</td>\n",
       "    </tr>\n",
       "    <tr>\n",
       "      <th>6</th>\n",
       "      <td>6</td>\n",
       "      <td>jobs growth still slow us us created fewer job...</td>\n",
       "      <td>business</td>\n",
       "      <td>1677</td>\n",
       "    </tr>\n",
       "    <tr>\n",
       "      <th>7</th>\n",
       "      <td>7</td>\n",
       "      <td>india calls fair trade rules india attends g7 ...</td>\n",
       "      <td>business</td>\n",
       "      <td>1928</td>\n",
       "    </tr>\n",
       "    <tr>\n",
       "      <th>8</th>\n",
       "      <td>8</td>\n",
       "      <td>ethiopias crop production 24 ethiopia produced...</td>\n",
       "      <td>business</td>\n",
       "      <td>1502</td>\n",
       "    </tr>\n",
       "    <tr>\n",
       "      <th>9</th>\n",
       "      <td>9</td>\n",
       "      <td>court rejects 280bn tobacco case us government...</td>\n",
       "      <td>business</td>\n",
       "      <td>1455</td>\n",
       "    </tr>\n",
       "  </tbody>\n",
       "</table>\n",
       "</div>"
      ],
      "text/plain": [
       "   Unnamed: 0                                               news      type  \\\n",
       "0           0  ad sales boost time warner profit quarterly pr...  business   \n",
       "1           1  dollar gains greenspan speech dollar hit highe...  business   \n",
       "2           2  yukos unit buyer faces loan claim owners embat...  business   \n",
       "3           3  high fuel prices hit bas profits british airwa...  business   \n",
       "4           4  pernod takeover talk lifts domecq shares uk dr...  business   \n",
       "5           5  japan narrowly escapes recession japans econom...  business   \n",
       "6           6  jobs growth still slow us us created fewer job...  business   \n",
       "7           7  india calls fair trade rules india attends g7 ...  business   \n",
       "8           8  ethiopias crop production 24 ethiopia produced...  business   \n",
       "9           9  court rejects 280bn tobacco case us government...  business   \n",
       "\n",
       "   News_length  \n",
       "0         2570  \n",
       "1         2258  \n",
       "2         1558  \n",
       "3         2422  \n",
       "4         1576  \n",
       "5         1193  \n",
       "6         1677  \n",
       "7         1928  \n",
       "8         1502  \n",
       "9         1455  "
      ]
     },
     "execution_count": 16,
     "metadata": {},
     "output_type": "execute_result"
    }
   ],
   "source": [
    "data['news'] = data['news'].apply(stopwords)\n",
    "data.head(10)"
   ]
  },
  {
   "cell_type": "markdown",
   "id": "320fd56c-0725-43c6-99bf-3eb363ca3cba",
   "metadata": {},
   "source": [
    "### Collect vocabulary count"
   ]
  },
  {
   "cell_type": "code",
   "execution_count": 17,
   "id": "958075de-ebf5-4619-b793-1035ad0eb732",
   "metadata": {},
   "outputs": [],
   "source": [
    "# create a count vectorizer object\n",
    "count_vectorizer = CountVectorizer()\n",
    "# fit the count vectorizer using the text data\n",
    "count_vectorizer.fit(data['news'])\n",
    "# collect the vocabulary items used in the vectorizer\n",
    "dictionary = count_vectorizer.vocabulary_.items()"
   ]
  },
  {
   "cell_type": "code",
   "execution_count": 18,
   "id": "c048582e-cbb1-4d4a-94fb-a45923398a07",
   "metadata": {},
   "outputs": [],
   "source": [
    "# lists to store the vocab and counts\n",
    "vocab = []\n",
    "count = []\n",
    "# iterate through each vocab and count append the value to designated lists\n",
    "for key, value in dictionary:\n",
    "    vocab.append(key)\n",
    "    count.append(value)\n",
    "# store the count in panadas dataframe with vocab as index\n",
    "vocab_bef_stem = pd.Series(count, index=vocab)\n",
    "# sort the dataframe\n",
    "vocab_bef_stem = vocab_bef_stem.sort_values(ascending=False)"
   ]
  },
  {
   "cell_type": "code",
   "execution_count": 19,
   "id": "5dfad0c1-60d6-4bd6-bdee-926e8da1e3b3",
   "metadata": {},
   "outputs": [
    {
     "data": {
      "text/plain": [
       "<AxesSubplot:>"
      ]
     },
     "execution_count": 19,
     "metadata": {},
     "output_type": "execute_result"
    },
    {
     "data": {
      "image/png": "[encoded data removed]",
      "text/plain": [
       "<Figure size 1080x360 with 1 Axes>"
      ]
     },
     "metadata": {
      "image/png": {
       "height": 441,
       "width": 890
      },
      "needs_background": "light"
     },
     "output_type": "display_data"
    }
   ],
   "source": [
    "top_vacab = vocab_bef_stem.head(20)\n",
    "top_vacab.plot(kind = 'bar', figsize=(15,5))"
   ]
  },
  {
   "cell_type": "markdown",
   "id": "0a490787-c0c1-44d5-862e-206dddf64031",
   "metadata": {},
   "source": [
    "### Stemming "
   ]
  },
  {
   "cell_type": "code",
   "execution_count": 20,
   "id": "5d116b7a-465d-4fc6-bf02-fea5b032dd96",
   "metadata": {},
   "outputs": [],
   "source": [
    "# create an object of stemming function\n",
    "stemmer = SnowballStemmer(\"english\")\n",
    "\n",
    "def stemming(text):    \n",
    "    '''a function which stems each word in the given text'''\n",
    "    text = [stemmer.stem(word) for word in text.split()]\n",
    "    return \" \".join(text) "
   ]
  },
  {
   "cell_type": "code",
   "execution_count": 21,
   "id": "8b42c651-9fed-4dc3-be97-91593d1cacf1",
   "metadata": {},
   "outputs": [
    {
     "data": {
      "text/html": [
       "<div>\n",
       "<style scoped>\n",
       "    .dataframe tbody tr th:only-of-type {\n",
       "        vertical-align: middle;\n",
       "    }\n",
       "\n",
       "    .dataframe tbody tr th {\n",
       "        vertical-align: top;\n",
       "    }\n",
       "\n",
       "    .dataframe thead th {\n",
       "        text-align: right;\n",
       "    }\n",
       "</style>\n",
       "<table border=\"1\" class=\"dataframe\">\n",
       "  <thead>\n",
       "    <tr style=\"text-align: right;\">\n",
       "      <th></th>\n",
       "      <th>Unnamed: 0</th>\n",
       "      <th>news</th>\n",
       "      <th>type</th>\n",
       "      <th>News_length</th>\n",
       "    </tr>\n",
       "  </thead>\n",
       "  <tbody>\n",
       "    <tr>\n",
       "      <th>0</th>\n",
       "      <td>0</td>\n",
       "      <td>ad sale boost time warner profit quarter profi...</td>\n",
       "      <td>business</td>\n",
       "      <td>2570</td>\n",
       "    </tr>\n",
       "    <tr>\n",
       "      <th>1</th>\n",
       "      <td>1</td>\n",
       "      <td>dollar gain greenspan speech dollar hit highes...</td>\n",
       "      <td>business</td>\n",
       "      <td>2258</td>\n",
       "    </tr>\n",
       "    <tr>\n",
       "      <th>2</th>\n",
       "      <td>2</td>\n",
       "      <td>yuko unit buyer face loan claim owner embattl ...</td>\n",
       "      <td>business</td>\n",
       "      <td>1558</td>\n",
       "    </tr>\n",
       "    <tr>\n",
       "      <th>3</th>\n",
       "      <td>3</td>\n",
       "      <td>high fuel price hit bas profit british airway ...</td>\n",
       "      <td>business</td>\n",
       "      <td>2422</td>\n",
       "    </tr>\n",
       "    <tr>\n",
       "      <th>4</th>\n",
       "      <td>4</td>\n",
       "      <td>pernod takeov talk lift domecq share uk drink ...</td>\n",
       "      <td>business</td>\n",
       "      <td>1576</td>\n",
       "    </tr>\n",
       "    <tr>\n",
       "      <th>5</th>\n",
       "      <td>5</td>\n",
       "      <td>japan narrowli escap recess japan economi teet...</td>\n",
       "      <td>business</td>\n",
       "      <td>1193</td>\n",
       "    </tr>\n",
       "    <tr>\n",
       "      <th>6</th>\n",
       "      <td>6</td>\n",
       "      <td>job growth still slow us us creat fewer job ex...</td>\n",
       "      <td>business</td>\n",
       "      <td>1677</td>\n",
       "    </tr>\n",
       "    <tr>\n",
       "      <th>7</th>\n",
       "      <td>7</td>\n",
       "      <td>india call fair trade rule india attend g7 mee...</td>\n",
       "      <td>business</td>\n",
       "      <td>1928</td>\n",
       "    </tr>\n",
       "    <tr>\n",
       "      <th>8</th>\n",
       "      <td>8</td>\n",
       "      <td>ethiopia crop product 24 ethiopia produc 1427 ...</td>\n",
       "      <td>business</td>\n",
       "      <td>1502</td>\n",
       "    </tr>\n",
       "    <tr>\n",
       "      <th>9</th>\n",
       "      <td>9</td>\n",
       "      <td>court reject 280bn tobacco case us govern clai...</td>\n",
       "      <td>business</td>\n",
       "      <td>1455</td>\n",
       "    </tr>\n",
       "  </tbody>\n",
       "</table>\n",
       "</div>"
      ],
      "text/plain": [
       "   Unnamed: 0                                               news      type  \\\n",
       "0           0  ad sale boost time warner profit quarter profi...  business   \n",
       "1           1  dollar gain greenspan speech dollar hit highes...  business   \n",
       "2           2  yuko unit buyer face loan claim owner embattl ...  business   \n",
       "3           3  high fuel price hit bas profit british airway ...  business   \n",
       "4           4  pernod takeov talk lift domecq share uk drink ...  business   \n",
       "5           5  japan narrowli escap recess japan economi teet...  business   \n",
       "6           6  job growth still slow us us creat fewer job ex...  business   \n",
       "7           7  india call fair trade rule india attend g7 mee...  business   \n",
       "8           8  ethiopia crop product 24 ethiopia produc 1427 ...  business   \n",
       "9           9  court reject 280bn tobacco case us govern clai...  business   \n",
       "\n",
       "   News_length  \n",
       "0         2570  \n",
       "1         2258  \n",
       "2         1558  \n",
       "3         2422  \n",
       "4         1576  \n",
       "5         1193  \n",
       "6         1677  \n",
       "7         1928  \n",
       "8         1502  \n",
       "9         1455  "
      ]
     },
     "execution_count": 21,
     "metadata": {},
     "output_type": "execute_result"
    }
   ],
   "source": [
    "data['news'] = data['news'].apply(stemming)\n",
    "data.head(10)"
   ]
  },
  {
   "cell_type": "code",
   "execution_count": 22,
   "id": "26eb7e58-3694-4c94-ba63-375acc32f651",
   "metadata": {},
   "outputs": [],
   "source": [
    "# create the object of tfid vectorizer\n",
    "tfid_vectorizer = TfidfVectorizer(stop_words = 'english')\n",
    "\n",
    "# fit the vectorizer using the text data\n",
    "tfid_vectorizer.fit(data['news'])\n",
    "\n",
    "# collect the vocabulary items used in the vectorizer\n",
    "dictionary = tfid_vectorizer.vocabulary_.items()"
   ]
  },
  {
   "cell_type": "code",
   "execution_count": 23,
   "id": "7c9e9c0b-06af-4be6-ab26-c815f2c1a836",
   "metadata": {},
   "outputs": [
    {
     "data": {
      "text/plain": [
       "<AxesSubplot:>"
      ]
     },
     "execution_count": 23,
     "metadata": {},
     "output_type": "execute_result"
    },
    {
     "data": {
      "image/png": "[encoded data removed]",
      "text/plain": [
       "<Figure size 1080x360 with 1 Axes>"
      ]
     },
     "metadata": {
      "image/png": {
       "height": 438,
       "width": 890
      },
      "needs_background": "light"
     },
     "output_type": "display_data"
    }
   ],
   "source": [
    "# lists to store the vocab and counts\n",
    "vocab = []\n",
    "count = []\n",
    "# iterate through each vocab and count append the value to designated lists\n",
    "for key, value in dictionary:\n",
    "    vocab.append(key)\n",
    "    count.append(value)\n",
    "# store the count in panadas dataframe with vocab as index\n",
    "vocab_after_stem = pd.Series(count, index=vocab)\n",
    "# sort the dataframe\n",
    "vocab_after_stem = vocab_after_stem.sort_values(ascending=False)\n",
    "# plot of the top vocab\n",
    "top_vacab = vocab_after_stem.head(20)\n",
    "top_vacab.plot(kind = 'bar', figsize=(15,5))"
   ]
  }
 ],
 "metadata": {
  "kernelspec": {
   "display_name": "Python 3 (ipykernel)",
   "language": "python",
   "name": "python3"
  },
  "language_info": {
   "codemirror_mode": {
    "name": "ipython",
    "version": 3
   },
   "file_extension": ".py",
   "mimetype": "text/x-python",
   "name": "python",
   "nbconvert_exporter": "python",
   "pygments_lexer": "ipython3",
   "version": "3.10.1"
  }
 },
 "nbformat": 4,
 "nbformat_minor": 5
}
